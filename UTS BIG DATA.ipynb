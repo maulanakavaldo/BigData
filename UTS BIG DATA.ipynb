{
 "cells": [
  {
   "cell_type": "code",
   "execution_count": 2,
   "metadata": {},
   "outputs": [],
   "source": [
    "import pyspark\n",
    "from pyspark import SparkContext, SparkConf\n",
    "from pyspark.sql import SparkSession\n",
    "from pyspark.sql.functions import col, lit"
   ]
  },
  {
   "cell_type": "code",
   "execution_count": 3,
   "metadata": {},
   "outputs": [],
   "source": [
    "spark = SparkSession.builder.appName('Master').getOrCreate()"
   ]
  },
  {
   "cell_type": "code",
   "execution_count": 4,
   "metadata": {},
   "outputs": [],
   "source": [
    "df = spark.read.csv('master.csv', inferSchema = True, header = True)"
   ]
  },
  {
   "cell_type": "code",
   "execution_count": 5,
   "metadata": {},
   "outputs": [
    {
     "name": "stdout",
     "output_type": "stream",
     "text": [
      "Jumlah Data =  27820\n",
      "root\n",
      " |-- country: string (nullable = true)\n",
      " |-- year: integer (nullable = true)\n",
      " |-- sex: string (nullable = true)\n",
      " |-- age: string (nullable = true)\n",
      " |-- suicides_no: integer (nullable = true)\n",
      " |-- population: integer (nullable = true)\n",
      " |-- suicides/100k pop: double (nullable = true)\n",
      " |-- country-year: string (nullable = true)\n",
      " |-- HDI for year: double (nullable = true)\n",
      " |--  gdp_for_year ($) : string (nullable = true)\n",
      " |-- gdp_per_capita ($): integer (nullable = true)\n",
      " |-- generation: string (nullable = true)\n",
      "\n"
     ]
    }
   ],
   "source": [
    "jumlahData = df.count()\n",
    "print('Jumlah Data = ', jumlahData)\n",
    "df.printSchema()"
   ]
  },
  {
   "cell_type": "markdown",
   "metadata": {},
   "source": [
    "# Menampilkan isi dataset master.csv"
   ]
  },
  {
   "cell_type": "code",
   "execution_count": 6,
   "metadata": {},
   "outputs": [
    {
     "name": "stdout",
     "output_type": "stream",
     "text": [
      "+-------+----+------+-----------+-----------+----------+-----------------+------------+------------+------------------+------------------+---------------+\n",
      "|country|year|   sex|        age|suicides_no|population|suicides/100k pop|country-year|HDI for year| gdp_for_year ($) |gdp_per_capita ($)|     generation|\n",
      "+-------+----+------+-----------+-----------+----------+-----------------+------------+------------+------------------+------------------+---------------+\n",
      "|Albania|1987|  male|15-24 years|         21|    312900|             6.71| Albania1987|        null|     2,156,624,900|               796|   Generation X|\n",
      "|Albania|1987|  male|35-54 years|         16|    308000|             5.19| Albania1987|        null|     2,156,624,900|               796|         Silent|\n",
      "|Albania|1987|female|15-24 years|         14|    289700|             4.83| Albania1987|        null|     2,156,624,900|               796|   Generation X|\n",
      "|Albania|1987|  male|  75+ years|          1|     21800|             4.59| Albania1987|        null|     2,156,624,900|               796|G.I. Generation|\n",
      "|Albania|1987|  male|25-34 years|          9|    274300|             3.28| Albania1987|        null|     2,156,624,900|               796|        Boomers|\n",
      "|Albania|1987|female|  75+ years|          1|     35600|             2.81| Albania1987|        null|     2,156,624,900|               796|G.I. Generation|\n",
      "|Albania|1987|female|35-54 years|          6|    278800|             2.15| Albania1987|        null|     2,156,624,900|               796|         Silent|\n",
      "|Albania|1987|female|25-34 years|          4|    257200|             1.56| Albania1987|        null|     2,156,624,900|               796|        Boomers|\n",
      "|Albania|1987|  male|55-74 years|          1|    137500|             0.73| Albania1987|        null|     2,156,624,900|               796|G.I. Generation|\n",
      "|Albania|1987|female| 5-14 years|          0|    311000|              0.0| Albania1987|        null|     2,156,624,900|               796|   Generation X|\n",
      "|Albania|1987|female|55-74 years|          0|    144600|              0.0| Albania1987|        null|     2,156,624,900|               796|G.I. Generation|\n",
      "|Albania|1987|  male| 5-14 years|          0|    338200|              0.0| Albania1987|        null|     2,156,624,900|               796|   Generation X|\n",
      "|Albania|1988|female|  75+ years|          2|     36400|             5.49| Albania1988|        null|     2,126,000,000|               769|G.I. Generation|\n",
      "|Albania|1988|  male|15-24 years|         17|    319200|             5.33| Albania1988|        null|     2,126,000,000|               769|   Generation X|\n",
      "|Albania|1988|  male|  75+ years|          1|     22300|             4.48| Albania1988|        null|     2,126,000,000|               769|G.I. Generation|\n",
      "|Albania|1988|  male|35-54 years|         14|    314100|             4.46| Albania1988|        null|     2,126,000,000|               769|         Silent|\n",
      "|Albania|1988|  male|55-74 years|          4|    140200|             2.85| Albania1988|        null|     2,126,000,000|               769|G.I. Generation|\n",
      "|Albania|1988|female|15-24 years|          8|    295600|             2.71| Albania1988|        null|     2,126,000,000|               769|   Generation X|\n",
      "|Albania|1988|female|55-74 years|          3|    147500|             2.03| Albania1988|        null|     2,126,000,000|               769|G.I. Generation|\n",
      "|Albania|1988|female|25-34 years|          5|    262400|             1.91| Albania1988|        null|     2,126,000,000|               769|        Boomers|\n",
      "|Albania|1988|  male|25-34 years|          5|    279900|             1.79| Albania1988|        null|     2,126,000,000|               769|        Boomers|\n",
      "|Albania|1988|female|35-54 years|          4|    284500|             1.41| Albania1988|        null|     2,126,000,000|               769|         Silent|\n",
      "|Albania|1988|female| 5-14 years|          0|    317200|              0.0| Albania1988|        null|     2,126,000,000|               769|   Generation X|\n",
      "|Albania|1988|  male| 5-14 years|          0|    345000|              0.0| Albania1988|        null|     2,126,000,000|               769|   Generation X|\n",
      "|Albania|1989|  male|  75+ years|          2|     22500|             8.89| Albania1989|        null|     2,335,124,988|               833|G.I. Generation|\n",
      "|Albania|1989|  male|25-34 years|         18|    283600|             6.35| Albania1989|        null|     2,335,124,988|               833|        Boomers|\n",
      "|Albania|1989|  male|35-54 years|         15|    318400|             4.71| Albania1989|        null|     2,335,124,988|               833|         Silent|\n",
      "|Albania|1989|  male|55-74 years|          6|    142100|             4.22| Albania1989|        null|     2,335,124,988|               833|G.I. Generation|\n",
      "|Albania|1989|  male|15-24 years|         12|    323500|             3.71| Albania1989|        null|     2,335,124,988|               833|   Generation X|\n",
      "|Albania|1989|female|35-54 years|          7|    288600|             2.43| Albania1989|        null|     2,335,124,988|               833|         Silent|\n",
      "+-------+----+------+-----------+-----------+----------+-----------------+------------+------------+------------------+------------------+---------------+\n",
      "only showing top 30 rows\n",
      "\n"
     ]
    }
   ],
   "source": [
    "df.show(30)"
   ]
  },
  {
   "cell_type": "markdown",
   "metadata": {},
   "source": [
    "# Menampilkan Data dengan Populasi lebih dari 200.000"
   ]
  },
  {
   "cell_type": "code",
   "execution_count": 10,
   "metadata": {},
   "outputs": [
    {
     "name": "stdout",
     "output_type": "stream",
     "text": [
      "+-------+------+----+----------+\n",
      "|Country|   Sex|Year|Population|\n",
      "+-------+------+----+----------+\n",
      "|Albania|  male|1987|    312900|\n",
      "|Albania|  male|1987|    308000|\n",
      "|Albania|female|1987|    289700|\n",
      "|Albania|  male|1987|    274300|\n",
      "|Albania|female|1987|    278800|\n",
      "|Albania|female|1987|    257200|\n",
      "|Albania|female|1987|    311000|\n",
      "|Albania|  male|1987|    338200|\n",
      "|Albania|  male|1988|    319200|\n",
      "|Albania|  male|1988|    314100|\n",
      "|Albania|female|1988|    295600|\n",
      "|Albania|female|1988|    262400|\n",
      "|Albania|  male|1988|    279900|\n",
      "|Albania|female|1988|    284500|\n",
      "|Albania|female|1988|    317200|\n",
      "|Albania|  male|1988|    345000|\n",
      "|Albania|  male|1989|    283600|\n",
      "|Albania|  male|1989|    318400|\n",
      "|Albania|  male|1989|    323500|\n",
      "|Albania|female|1989|    288600|\n",
      "|Albania|female|1989|    299900|\n",
      "|Albania|female|1989|    266300|\n",
      "|Albania|female|1989|    321900|\n",
      "|Albania|  male|1989|    349700|\n",
      "|Albania|  male|1992|    343800|\n",
      "|Albania|  male|1992|    263700|\n",
      "|Albania|  male|1992|    245500|\n",
      "|Albania|female|1992|    292400|\n",
      "|Albania|female|1992|    267400|\n",
      "|Albania|female|1992|    323100|\n",
      "|Albania|female|1992|    336700|\n",
      "|Albania|  male|1992|    362900|\n",
      "|Albania|  male|1993|    243300|\n",
      "|Albania|  male|1993|    230100|\n",
      "|Albania|female|1993|    285300|\n",
      "|Albania|  male|1993|    350300|\n",
      "|Albania|female|1993|    261800|\n",
      "|Albania|female|1993|    331200|\n",
      "|Albania|female|1993|    340300|\n",
      "|Albania|  male|1993|    367000|\n",
      "|Albania|  male|1994|    231400|\n",
      "|Albania|  male|1994|    362800|\n",
      "|Albania|  male|1994|    242200|\n",
      "|Albania|female|1994|    282600|\n",
      "|Albania|female|1994|    261100|\n",
      "|Albania|female|1994|    342500|\n",
      "|Albania|  male|1994|    371800|\n",
      "|Albania|female|1994|    344400|\n",
      "|Albania|  male|1995|    232900|\n",
      "|Albania|female|1995|    283500|\n",
      "|Albania|  male|1995|    241200|\n",
      "|Albania|  male|1995|    375900|\n",
      "|Albania|female|1995|    264000|\n",
      "|Albania|female|1995|    356400|\n",
      "|Albania|  male|1995|    376500|\n",
      "|Albania|female|1995|    348700|\n",
      "|Albania|  male|1996|    243600|\n",
      "|Albania|  male|1996|    235300|\n",
      "|Albania|female|1996|    287700|\n",
      "|Albania|female|1996|    267900|\n",
      "|Albania|  male|1996|    379600|\n",
      "|Albania|female|1996|    362000|\n",
      "|Albania|  male|1996|    380400|\n",
      "|Albania|female|1996|    354100|\n",
      "|Albania|  male|1997|    236000|\n",
      "|Albania|  male|1997|    244400|\n",
      "|Albania|  male|1997|    380800|\n",
      "|Albania|female|1997|    294000|\n",
      "|Albania|female|1997|    273900|\n",
      "|Albania|female|1997|    370100|\n",
      "|Albania|female|1997|    361800|\n",
      "|Albania|  male|1997|    381500|\n",
      "|Albania|  male|1998|    248800|\n",
      "|Albania|female|1998|    295600|\n",
      "|Albania|  male|1998|    240400|\n",
      "|Albania|  male|1998|    388200|\n",
      "|Albania|female|1998|    275300|\n",
      "|Albania|female|1998|    372100|\n",
      "|Albania|  male|1998|    388400|\n",
      "|Albania|female|1998|    363800|\n",
      "|Albania|  male|1999|    250600|\n",
      "|Albania|  male|1999|    391100|\n",
      "|Albania|  male|1999|    242300|\n",
      "|Albania|female|1999|    296800|\n",
      "|Albania|female|1999|    276500|\n",
      "|Albania|female|1999|    373600|\n",
      "|Albania|female|1999|    365200|\n",
      "|Albania|  male|1999|    391300|\n",
      "|Albania|  male|2000|    232000|\n",
      "|Albania|female|2000|    263900|\n",
      "|Albania|  male|2000|    240000|\n",
      "|Albania|female|2000|    332200|\n",
      "|Albania|female|2000|    245800|\n",
      "|Albania|  male|2000|    374700|\n",
      "|Albania|  male|2000|    374900|\n",
      "|Albania|female|2000|    324700|\n",
      "|Albania|  male|2001|    206484|\n",
      "|Albania|  male|2001|    378826|\n",
      "|Albania|  male|2001|    256039|\n",
      "|Albania|female|2001|    271359|\n",
      "+-------+------+----+----------+\n",
      "only showing top 100 rows\n",
      "\n"
     ]
    }
   ],
   "source": [
    "DataFrame = df.select(df['Country'],\n",
    "                      df['Sex'],\n",
    "                      df['Year'],\n",
    "                      df['Population'])\n",
    "DataFrame.filter(DataFrame['Population'] > 200000).show(100) #Menampilkan Populasi yang lebih dari 200000"
   ]
  },
  {
   "cell_type": "markdown",
   "metadata": {},
   "source": [
    "# Menghapus kolom country-year dan HDI for year karena tidak dibutuhkan."
   ]
  },
  {
   "cell_type": "code",
   "execution_count": 7,
   "metadata": {},
   "outputs": [
    {
     "name": "stdout",
     "output_type": "stream",
     "text": [
      "+-------+----+------+-----------+-----------+----------+-----------------+------------------+------------------+---------------+\n",
      "|country|year|   sex|        age|suicides_no|population|suicides/100k pop| gdp_for_year ($) |gdp_per_capita ($)|     generation|\n",
      "+-------+----+------+-----------+-----------+----------+-----------------+------------------+------------------+---------------+\n",
      "|Albania|1987|  male|15-24 years|         21|    312900|             6.71|     2,156,624,900|               796|   Generation X|\n",
      "|Albania|1987|  male|35-54 years|         16|    308000|             5.19|     2,156,624,900|               796|         Silent|\n",
      "|Albania|1987|female|15-24 years|         14|    289700|             4.83|     2,156,624,900|               796|   Generation X|\n",
      "|Albania|1987|  male|  75+ years|          1|     21800|             4.59|     2,156,624,900|               796|G.I. Generation|\n",
      "|Albania|1987|  male|25-34 years|          9|    274300|             3.28|     2,156,624,900|               796|        Boomers|\n",
      "|Albania|1987|female|  75+ years|          1|     35600|             2.81|     2,156,624,900|               796|G.I. Generation|\n",
      "|Albania|1987|female|35-54 years|          6|    278800|             2.15|     2,156,624,900|               796|         Silent|\n",
      "|Albania|1987|female|25-34 years|          4|    257200|             1.56|     2,156,624,900|               796|        Boomers|\n",
      "|Albania|1987|  male|55-74 years|          1|    137500|             0.73|     2,156,624,900|               796|G.I. Generation|\n",
      "|Albania|1987|female| 5-14 years|          0|    311000|              0.0|     2,156,624,900|               796|   Generation X|\n",
      "|Albania|1987|female|55-74 years|          0|    144600|              0.0|     2,156,624,900|               796|G.I. Generation|\n",
      "|Albania|1987|  male| 5-14 years|          0|    338200|              0.0|     2,156,624,900|               796|   Generation X|\n",
      "|Albania|1988|female|  75+ years|          2|     36400|             5.49|     2,126,000,000|               769|G.I. Generation|\n",
      "|Albania|1988|  male|15-24 years|         17|    319200|             5.33|     2,126,000,000|               769|   Generation X|\n",
      "|Albania|1988|  male|  75+ years|          1|     22300|             4.48|     2,126,000,000|               769|G.I. Generation|\n",
      "|Albania|1988|  male|35-54 years|         14|    314100|             4.46|     2,126,000,000|               769|         Silent|\n",
      "|Albania|1988|  male|55-74 years|          4|    140200|             2.85|     2,126,000,000|               769|G.I. Generation|\n",
      "|Albania|1988|female|15-24 years|          8|    295600|             2.71|     2,126,000,000|               769|   Generation X|\n",
      "|Albania|1988|female|55-74 years|          3|    147500|             2.03|     2,126,000,000|               769|G.I. Generation|\n",
      "|Albania|1988|female|25-34 years|          5|    262400|             1.91|     2,126,000,000|               769|        Boomers|\n",
      "+-------+----+------+-----------+-----------+----------+-----------------+------------------+------------------+---------------+\n",
      "only showing top 20 rows\n",
      "\n"
     ]
    }
   ],
   "source": [
    "df.drop('country-year', 'HDI for year').show()"
   ]
  },
  {
   "cell_type": "code",
   "execution_count": 8,
   "metadata": {},
   "outputs": [
    {
     "name": "stdout",
     "output_type": "stream",
     "text": [
      "+-------+----+------+-----------+-----------+----------+-----------------+------------+------------+------------------+------------------+---------------+\n",
      "|country|year|   sex|        age|suicides_no|population|suicides/100k pop|country-year|HDI for year| gdp_for_year ($) |gdp_per_capita ($)|     generation|\n",
      "+-------+----+------+-----------+-----------+----------+-----------------+------------+------------+------------------+------------------+---------------+\n",
      "|Albania|1987|  male|15-24 years|         21|    312900|             6.71| Albania1987|        null|     2,156,624,900|               796|   Generation X|\n",
      "|Albania|1987|  male|35-54 years|         16|    308000|             5.19| Albania1987|        null|     2,156,624,900|               796|         Silent|\n",
      "|Albania|1987|female|15-24 years|         14|    289700|             4.83| Albania1987|        null|     2,156,624,900|               796|   Generation X|\n",
      "|Albania|1987|  male|  75+ years|          1|     21800|             4.59| Albania1987|        null|     2,156,624,900|               796|G.I. Generation|\n",
      "|Albania|1987|  male|25-34 years|          9|    274300|             3.28| Albania1987|        null|     2,156,624,900|               796|        Boomers|\n",
      "|Albania|1987|female|  75+ years|          1|     35600|             2.81| Albania1987|        null|     2,156,624,900|               796|G.I. Generation|\n",
      "|Albania|1987|female|35-54 years|          6|    278800|             2.15| Albania1987|        null|     2,156,624,900|               796|         Silent|\n",
      "|Albania|1987|female|25-34 years|          4|    257200|             1.56| Albania1987|        null|     2,156,624,900|               796|        Boomers|\n",
      "|Albania|1987|  male|55-74 years|          1|    137500|             0.73| Albania1987|        null|     2,156,624,900|               796|G.I. Generation|\n",
      "|Albania|1987|female| 5-14 years|          0|    311000|              0.0| Albania1987|        null|     2,156,624,900|               796|   Generation X|\n",
      "|Albania|1987|female|55-74 years|          0|    144600|              0.0| Albania1987|        null|     2,156,624,900|               796|G.I. Generation|\n",
      "|Albania|1987|  male| 5-14 years|          0|    338200|              0.0| Albania1987|        null|     2,156,624,900|               796|   Generation X|\n",
      "|Albania|1988|female|  75+ years|          2|     36400|             5.49| Albania1988|        null|     2,126,000,000|               769|G.I. Generation|\n",
      "|Albania|1988|  male|15-24 years|         17|    319200|             5.33| Albania1988|        null|     2,126,000,000|               769|   Generation X|\n",
      "|Albania|1988|  male|  75+ years|          1|     22300|             4.48| Albania1988|        null|     2,126,000,000|               769|G.I. Generation|\n",
      "|Albania|1988|  male|35-54 years|         14|    314100|             4.46| Albania1988|        null|     2,126,000,000|               769|         Silent|\n",
      "|Albania|1988|  male|55-74 years|          4|    140200|             2.85| Albania1988|        null|     2,126,000,000|               769|G.I. Generation|\n",
      "|Albania|1988|female|15-24 years|          8|    295600|             2.71| Albania1988|        null|     2,126,000,000|               769|   Generation X|\n",
      "|Albania|1988|female|55-74 years|          3|    147500|             2.03| Albania1988|        null|     2,126,000,000|               769|G.I. Generation|\n",
      "|Albania|1988|female|25-34 years|          5|    262400|             1.91| Albania1988|        null|     2,126,000,000|               769|        Boomers|\n",
      "+-------+----+------+-----------+-----------+----------+-----------------+------------+------------+------------------+------------------+---------------+\n",
      "only showing top 20 rows\n",
      "\n"
     ]
    }
   ],
   "source": [
    "#Membuat sql table temporary dari dataframe yang dibuat\n",
    "df.createOrReplaceTempView(\"suicide\")\n",
    "\n",
    "Sqlsuicide = spark.sql(\"SELECT * FROM suicide\")\n",
    "Sqlsuicide.show()"
   ]
  },
  {
   "cell_type": "markdown",
   "metadata": {},
   "source": [
    "# Menampilkan data bunuh diri berdasarkan tahun dari 2015 sampai 2016"
   ]
  },
  {
   "cell_type": "code",
   "execution_count": 9,
   "metadata": {},
   "outputs": [
    {
     "name": "stdout",
     "output_type": "stream",
     "text": [
      "+--------------------+----+----------------+\n",
      "|             country|year|sum(suicides_no)|\n",
      "+--------------------+----+----------------+\n",
      "|         Puerto Rico|2015|             226|\n",
      "|          Luxembourg|2015|              64|\n",
      "|          Seychelles|2015|               7|\n",
      "|              Sweden|2015|            1182|\n",
      "|            Thailand|2015|            4205|\n",
      "|             Georgia|2015|             192|\n",
      "|             Ukraine|2015|            7574|\n",
      "|             Belgium|2015|            1867|\n",
      "|              Panama|2015|             110|\n",
      "|              Mexico|2015|            6234|\n",
      "|             Uruguay|2015|             630|\n",
      "|             Romania|2015|            2228|\n",
      "|               Chile|2015|            1838|\n",
      "|              Norway|2015|             590|\n",
      "|           Australia|2015|            3027|\n",
      "|             Estonia|2015|             195|\n",
      "|               Qatar|2015|              66|\n",
      "|              Israel|2015|             342|\n",
      "|             Hungary|2015|            1868|\n",
      "|             Iceland|2015|              40|\n",
      "|           Lithuania|2015|             896|\n",
      "|             Austria|2015|            1251|\n",
      "|               Japan|2015|           23092|\n",
      "|      Czech Republic|2015|            1387|\n",
      "|              Turkey|2015|            1532|\n",
      "|              Greece|2015|             529|\n",
      "|           Mauritius|2015|             104|\n",
      "|              Poland|2015|            5420|\n",
      "|        Turkmenistan|2015|             133|\n",
      "|      United Kingdom|2015|            4910|\n",
      "|            Slovenia|2015|             422|\n",
      "|               Malta|2015|              34|\n",
      "|Saint Vincent and...|2015|               3|\n",
      "|             Ecuador|2015|            1073|\n",
      "|   Republic of Korea|2015|           13510|\n",
      "|        South Africa|2015|             482|\n",
      "|             Grenada|2015|               0|\n",
      "|             Denmark|2015|             564|\n",
      "|              Cyprus|2015|              40|\n",
      "|          Kazakhstan|2015|            2872|\n",
      "|            Colombia|2015|            2332|\n",
      "|         Switzerland|2015|            1073|\n",
      "| Antigua and Barbuda|2015|               1|\n",
      "|           Argentina|2015|            3073|\n",
      "|  Russian Federation|2015|           25432|\n",
      "|             Finland|2015|             731|\n",
      "|              Brazil|2015|           11163|\n",
      "|               Spain|2015|            3604|\n",
      "|           Guatemala|2015|             494|\n",
      "|               Italy|2015|            3988|\n",
      "+--------------------+----+----------------+\n",
      "only showing top 50 rows\n",
      "\n"
     ]
    }
   ],
   "source": [
    "df2 = df.filter( (col('year') >= lit('2015')) & (col('year') <= lit('2016')) )\n",
    "df2.groupBy(\"country\",\"year\").sum(\"suicides_no\").orderBy('year').show(50)"
   ]
  },
  {
   "cell_type": "markdown",
   "metadata": {},
   "source": [
    "# Menampilkan kasus bunuh diri terbanyak berdasar tahun"
   ]
  },
  {
   "cell_type": "code",
   "execution_count": 11,
   "metadata": {},
   "outputs": [
    {
     "name": "stdout",
     "output_type": "stream",
     "text": [
      "+----+----------------+\n",
      "|year|sum(suicides_no)|\n",
      "+----+----------------+\n",
      "|1999|          256119|\n",
      "|2002|          256095|\n",
      "|2003|          256079|\n",
      "|2000|          255832|\n",
      "|2001|          250652|\n",
      "|1998|          249591|\n",
      "|1996|          246725|\n",
      "|1995|          243544|\n",
      "|2009|          243487|\n",
      "|2004|          240861|\n",
      "|1997|          240745|\n",
      "|2010|          238702|\n",
      "|2011|          236484|\n",
      "|2008|          235447|\n",
      "|2005|          234375|\n",
      "|2007|          233408|\n",
      "|2006|          233361|\n",
      "|1994|          232063|\n",
      "|2012|          230160|\n",
      "|2013|          223199|\n",
      "+----+----------------+\n",
      "only showing top 20 rows\n",
      "\n"
     ]
    }
   ],
   "source": [
    "df.groupBy(\"year\").sum(\"suicides_no\").orderBy('sum(suicides_no)', ascending=False).show()"
   ]
  },
  {
   "cell_type": "markdown",
   "metadata": {},
   "source": [
    "# Menampilkan negara dengan rata-rata suicide tertinggi (Unggulan 2)"
   ]
  },
  {
   "cell_type": "code",
   "execution_count": 98,
   "metadata": {},
   "outputs": [
    {
     "name": "stdout",
     "output_type": "stream",
     "text": [
      "+------------------+------------------+\n",
      "|           country|  avg(suicides_no)|\n",
      "+------------------+------------------+\n",
      "|Russian Federation|3733.7716049382716|\n",
      "|     United States|2779.6048387096776|\n",
      "|             Japan|2169.0913978494623|\n",
      "|           Ukraine| 952.2321428571429|\n",
      "|           Germany| 933.5320512820513|\n",
      "|            France| 914.2416666666667|\n",
      "| Republic of Korea| 703.5752688172043|\n",
      "|            Brazil| 609.1747311827957|\n",
      "|            Poland| 482.9791666666667|\n",
      "|         Sri Lanka|421.52272727272725|\n",
      "|    United Kingdom|  367.755376344086|\n",
      "|             Italy|             355.0|\n",
      "|          Thailand|331.26646706586826|\n",
      "|        Kazakhstan|325.46794871794873|\n",
      "|            Canada| 309.0833333333333|\n",
      "|            Mexico|298.76075268817203|\n",
      "|             Spain|269.36021505376345|\n",
      "|           Hungary|238.35806451612902|\n",
      "|           Belarus|237.66666666666666|\n",
      "|         Argentina| 221.0188172043011|\n",
      "+------------------+------------------+\n",
      "only showing top 20 rows\n",
      "\n"
     ]
    }
   ],
   "source": [
    "df.groupBy(\"country\").avg(\"suicides_no\").orderBy('avg(suicides_no)', ascending=False).show()"
   ]
  },
  {
   "cell_type": "markdown",
   "metadata": {},
   "source": [
    "# Menampilkan negara dengan kasus suicide terbanyak"
   ]
  },
  {
   "cell_type": "code",
   "execution_count": 71,
   "metadata": {},
   "outputs": [
    {
     "name": "stdout",
     "output_type": "stream",
     "text": [
      "+------------------+----------------+\n",
      "|           country|sum(suicides_no)|\n",
      "+------------------+----------------+\n",
      "|Russian Federation|         1209742|\n",
      "|     United States|         1034013|\n",
      "|             Japan|          806902|\n",
      "|            France|          329127|\n",
      "|           Ukraine|          319950|\n",
      "|           Germany|          291262|\n",
      "| Republic of Korea|          261730|\n",
      "|            Brazil|          226613|\n",
      "|            Poland|          139098|\n",
      "|    United Kingdom|          136805|\n",
      "|             Italy|          132060|\n",
      "|            Mexico|          111139|\n",
      "|          Thailand|          110643|\n",
      "|            Canada|          107561|\n",
      "|        Kazakhstan|          101546|\n",
      "|             Spain|          100202|\n",
      "|         Argentina|           82219|\n",
      "|           Hungary|           73891|\n",
      "|           Romania|           72777|\n",
      "|         Australia|           70111|\n",
      "+------------------+----------------+\n",
      "only showing top 20 rows\n",
      "\n"
     ]
    }
   ],
   "source": [
    "df.groupBy(\"country\").sum(\"suicides_no\").orderBy('sum(suicides_no)', ascending=False).show()"
   ]
  },
  {
   "cell_type": "markdown",
   "metadata": {},
   "source": [
    "# Menampilkan umur dan gender yang beresiko suicide (Unggulan 2)"
   ]
  },
  {
   "cell_type": "code",
   "execution_count": 72,
   "metadata": {},
   "outputs": [
    {
     "name": "stdout",
     "output_type": "stream",
     "text": [
      "+------+-----------+----------------+\n",
      "|   sex|        age|sum(suicides_no)|\n",
      "+------+-----------+----------------+\n",
      "|  male|35-54 years|         1945908|\n",
      "|  male|55-74 years|         1228407|\n",
      "|  male|25-34 years|          915089|\n",
      "|  male|15-24 years|          633105|\n",
      "|female|35-54 years|          506233|\n",
      "|  male|  75+ years|          431134|\n",
      "|female|55-74 years|          430036|\n",
      "|female|  75+ years|          221984|\n",
      "|female|25-34 years|          208823|\n",
      "|female|15-24 years|          175437|\n",
      "|  male| 5-14 years|           35267|\n",
      "|female| 5-14 years|           16997|\n",
      "+------+-----------+----------------+\n",
      "\n"
     ]
    }
   ],
   "source": [
    "df.groupBy(\"sex\", \"age\").sum(\"suicides_no\").orderBy('sum(suicides_no)', ascending=False).show()"
   ]
  },
  {
   "cell_type": "markdown",
   "metadata": {},
   "source": [
    "# Menampilkan Jumlah bunuh diri berdasarkan generasi dan gender"
   ]
  },
  {
   "cell_type": "code",
   "execution_count": 8,
   "metadata": {},
   "outputs": [
    {
     "name": "stdout",
     "output_type": "stream",
     "text": [
      "+---------------+------+----------------+\n",
      "|     generation|   sex|sum(suicides_no)|\n",
      "+---------------+------+----------------+\n",
      "|        Boomers|  male|         1823530|\n",
      "|         Silent|  male|         1309455|\n",
      "|   Generation X|  male|         1222965|\n",
      "|     Millenials|  male|          489839|\n",
      "|         Silent|female|          472289|\n",
      "|        Boomers|female|          460968|\n",
      "|G.I. Generation|  male|          333356|\n",
      "|   Generation X|female|          309839|\n",
      "|G.I. Generation|female|          176653|\n",
      "|     Millenials|female|          133620|\n",
      "|   Generation Z|  male|            9765|\n",
      "|   Generation Z|female|            6141|\n",
      "+---------------+------+----------------+\n",
      "\n"
     ]
    }
   ],
   "source": [
    "df.groupBy(\"generation\",\"sex\").sum(\"suicides_no\").orderBy('sum(suicides_no)', ascending=False).show(50)"
   ]
  },
  {
   "cell_type": "markdown",
   "metadata": {},
   "source": [
    "# Generasi pemberi kontribusi suicide terbanyak"
   ]
  },
  {
   "cell_type": "code",
   "execution_count": 85,
   "metadata": {},
   "outputs": [
    {
     "name": "stdout",
     "output_type": "stream",
     "text": [
      "+---------------+----------------+\n",
      "|     generation|sum(suicides_no)|\n",
      "+---------------+----------------+\n",
      "|        Boomers|         2284498|\n",
      "|         Silent|         1781744|\n",
      "|   Generation X|         1532804|\n",
      "|     Millenials|          623459|\n",
      "|G.I. Generation|          510009|\n",
      "|   Generation Z|           15906|\n",
      "+---------------+----------------+\n",
      "\n"
     ]
    }
   ],
   "source": [
    "df.groupBy(\"generation\").sum(\"suicides_no\").orderBy('sum(suicides_no)', ascending=False).show()"
   ]
  },
  {
   "cell_type": "markdown",
   "metadata": {},
   "source": [
    "# Menampilkan pengaruh gdp perkapita negara terhadap tingkat suicide"
   ]
  },
  {
   "cell_type": "code",
   "execution_count": 87,
   "metadata": {},
   "outputs": [
    {
     "name": "stdout",
     "output_type": "stream",
     "text": [
      "+-------+----+-----------------------+----------------+\n",
      "|country|year|sum(gdp_per_capita ($))|sum(suicides_no)|\n",
      "+-------+----+-----------------------+----------------+\n",
      "|Albania|1992|                   3012|              47|\n",
      "|Albania|2001|                  17412|             119|\n",
      "|Albania|1989|                   9996|              68|\n",
      "|Albania|1994|                   8364|              50|\n",
      "|Albania|1993|                   5244|              73|\n",
      "|Albania|2000|                  15588|              54|\n",
      "|Albania|2005|                  35172|               0|\n",
      "|Albania|2006|                  38820|               0|\n",
      "|Albania|1996|                  13524|              89|\n",
      "|Albania|1999|                  13524|             139|\n",
      "|Albania|1997|                   9516|             170|\n",
      "|Albania|1988|                   9228|              63|\n",
      "|Albania|2003|                  24252|             124|\n",
      "|Albania|2008|                  56064|             160|\n",
      "|Albania|2009|                  52644|               0|\n",
      "|Albania|1998|                  10788|             154|\n",
      "|Albania|2004|                  30528|             146|\n",
      "|Albania|2002|                  18876|             133|\n",
      "|Albania|2010|                  52308|              96|\n",
      "|Albania|1995|                  10020|              88|\n",
      "+-------+----+-----------------------+----------------+\n",
      "only showing top 20 rows\n",
      "\n"
     ]
    }
   ],
   "source": [
    "economicFactor = df.groupBy('country','year').sum('gdp_per_capita ($)', 'suicides_no' ).orderBy('country').show()"
   ]
  },
  {
   "cell_type": "markdown",
   "metadata": {},
   "source": [
    "# Menampilkan perbandingan tingkat suicide pertahun dari tiap negara"
   ]
  },
  {
   "cell_type": "code",
   "execution_count": 89,
   "metadata": {},
   "outputs": [
    {
     "name": "stdout",
     "output_type": "stream",
     "text": [
      "+--------------+----+-----------------------+----------------+\n",
      "|       country|year|sum(gdp_per_capita ($))|sum(suicides_no)|\n",
      "+--------------+----+-----------------------+----------------+\n",
      "|        Cyprus|2016|                 250980|              36|\n",
      "|        Sweden|2016|                 555940|            1130|\n",
      "|       Hungary|2016|                 134480|            1761|\n",
      "|      Thailand|2016|                  67130|            4117|\n",
      "|Czech Republic|2016|                 195050|            1318|\n",
      "|       Grenada|2016|                 108380|               0|\n",
      "|       Romania|2016|                 100200|            1953|\n",
      "|       Croatia|2016|                 129050|             683|\n",
      "|         Qatar|2016|                 624840|              68|\n",
      "|       Armenia|2016|                  37880|              67|\n",
      "|      Mongolia|2016|                  41450|             423|\n",
      "|       Iceland|2016|                 647080|              40|\n",
      "|     Mauritius|2016|                 105700|              98|\n",
      "|     Lithuania|2016|                 157420|             822|\n",
      "|   Netherlands|2016|                 481080|            1886|\n",
      "|       Austria|2016|                 469760|            1201|\n",
      "|       Ukraine|2015|                  27072|            7574|\n",
      "|        Mexico|2015|                 122736|            6234|\n",
      "|     Australia|2015|                 727872|            3027|\n",
      "|       Belgium|2015|                 513960|            1867|\n",
      "+--------------+----+-----------------------+----------------+\n",
      "only showing top 20 rows\n",
      "\n"
     ]
    }
   ],
   "source": [
    "df.groupBy('country','year').sum('gdp_per_capita ($)', 'suicides_no' ).orderBy('year', ascending=False).show()"
   ]
  },
  {
   "cell_type": "markdown",
   "metadata": {},
   "source": [
    "# Menampilkan perbandingan tingkat suicide dengan gdp per kapita setiap negara pada tiap tahunnya"
   ]
  },
  {
   "cell_type": "code",
   "execution_count": 81,
   "metadata": {},
   "outputs": [
    {
     "name": "stdout",
     "output_type": "stream",
     "text": [
      "+-------+----+-----------------------+----------------+\n",
      "|country|year|sum(gdp_per_capita ($))|sum(suicides_no)|\n",
      "+-------+----+-----------------------+----------------+\n",
      "|Albania|1987|                   9552|              73|\n",
      "|Albania|1988|                   9228|              63|\n",
      "|Albania|1989|                   9996|              68|\n",
      "|Albania|1992|                   3012|              47|\n",
      "|Albania|1993|                   5244|              73|\n",
      "|Albania|1994|                   8364|              50|\n",
      "|Albania|1995|                  10020|              88|\n",
      "|Albania|1996|                  13524|              89|\n",
      "|Albania|1997|                   9516|             170|\n",
      "|Albania|1998|                  10788|             154|\n",
      "|Albania|1999|                  13524|             139|\n",
      "|Albania|2000|                  15588|              54|\n",
      "|Albania|2001|                  17412|             119|\n",
      "|Albania|2002|                  18876|             133|\n",
      "|Albania|2003|                  24252|             124|\n",
      "|Albania|2004|                  30528|             146|\n",
      "|Albania|2005|                  35172|               0|\n",
      "|Albania|2006|                  38820|               0|\n",
      "|Albania|2007|                  46356|             124|\n",
      "|Albania|2008|                  56064|             160|\n",
      "+-------+----+-----------------------+----------------+\n",
      "only showing top 20 rows\n",
      "\n"
     ]
    }
   ],
   "source": [
    "df.groupBy('country','year').sum('gdp_per_capita ($)', 'suicides_no' ).orderBy('country','year').show()"
   ]
  },
  {
   "cell_type": "code",
   "execution_count": null,
   "metadata": {},
   "outputs": [],
   "source": []
  }
 ],
 "metadata": {
  "kernelspec": {
   "display_name": "Python 3",
   "language": "python",
   "name": "python3"
  },
  "language_info": {
   "codemirror_mode": {
    "name": "ipython",
    "version": 3
   },
   "file_extension": ".py",
   "mimetype": "text/x-python",
   "name": "python",
   "nbconvert_exporter": "python",
   "pygments_lexer": "ipython3",
   "version": "3.8.2"
  }
 },
 "nbformat": 4,
 "nbformat_minor": 5
}
